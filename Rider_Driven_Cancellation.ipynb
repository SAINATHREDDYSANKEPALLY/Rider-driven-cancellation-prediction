{
 "cells": [
  {
   "cell_type": "code",
   "execution_count": 1,
   "id": "ea99021f",
   "metadata": {},
   "outputs": [],
   "source": [
    "import numpy as np\n",
    "import pandas as pd\n",
    "import matplotlib.pyplot as plt\n",
    "import seaborn as sns\n",
    "from sklearn.preprocessing import StandardScaler\n",
    "import warnings\n",
    "warnings.filterwarnings('ignore')"
   ]
  },
  {
   "cell_type": "code",
   "execution_count": 2,
   "id": "a832647c",
   "metadata": {},
   "outputs": [],
   "source": [
    "df=pd.read_csv(r\"C:\\Users\\sanke\\Desktop\\train.csv\")"
   ]
  },
  {
   "cell_type": "code",
   "execution_count": 3,
   "id": "d6bc7ba7",
   "metadata": {},
   "outputs": [
    {
     "data": {
      "text/html": [
       "<div>\n",
       "<style scoped>\n",
       "    .dataframe tbody tr th:only-of-type {\n",
       "        vertical-align: middle;\n",
       "    }\n",
       "\n",
       "    .dataframe tbody tr th {\n",
       "        vertical-align: top;\n",
       "    }\n",
       "\n",
       "    .dataframe thead th {\n",
       "        text-align: right;\n",
       "    }\n",
       "</style>\n",
       "<table border=\"1\" class=\"dataframe\">\n",
       "  <thead>\n",
       "    <tr style=\"text-align: right;\">\n",
       "      <th></th>\n",
       "      <th>order_time</th>\n",
       "      <th>order_id</th>\n",
       "      <th>order_date</th>\n",
       "      <th>allot_time</th>\n",
       "      <th>accept_time</th>\n",
       "      <th>pickup_time</th>\n",
       "      <th>delivered_time</th>\n",
       "      <th>rider_id</th>\n",
       "      <th>first_mile_distance</th>\n",
       "      <th>last_mile_distance</th>\n",
       "      <th>alloted_orders</th>\n",
       "      <th>delivered_orders</th>\n",
       "      <th>cancelled</th>\n",
       "      <th>undelivered_orders</th>\n",
       "      <th>lifetime_order_count</th>\n",
       "      <th>reassignment_method</th>\n",
       "      <th>reassignment_reason</th>\n",
       "      <th>reassigned_order</th>\n",
       "      <th>session_time</th>\n",
       "      <th>cancelled_time</th>\n",
       "    </tr>\n",
       "  </thead>\n",
       "  <tbody>\n",
       "    <tr>\n",
       "      <th>0</th>\n",
       "      <td>2021-01-26 02:21:35</td>\n",
       "      <td>556753</td>\n",
       "      <td>2021-01-26 00:00:00</td>\n",
       "      <td>2021-01-26 02:21:59</td>\n",
       "      <td>2021-01-26 02:22:08</td>\n",
       "      <td>2021-01-26 02:32:51</td>\n",
       "      <td>2021-01-26 02:49:47</td>\n",
       "      <td>11696</td>\n",
       "      <td>1.5666</td>\n",
       "      <td>2.65</td>\n",
       "      <td>46.0</td>\n",
       "      <td>46.0</td>\n",
       "      <td>0</td>\n",
       "      <td>0.0</td>\n",
       "      <td>621.0</td>\n",
       "      <td>NaN</td>\n",
       "      <td>NaN</td>\n",
       "      <td>NaN</td>\n",
       "      <td>NaN</td>\n",
       "      <td>NaN</td>\n",
       "    </tr>\n",
       "    <tr>\n",
       "      <th>1</th>\n",
       "      <td>2021-01-26 02:33:16</td>\n",
       "      <td>556754</td>\n",
       "      <td>2021-01-26 00:00:00</td>\n",
       "      <td>2021-01-26 02:33:57</td>\n",
       "      <td>2021-01-26 02:34:45</td>\n",
       "      <td>2021-01-26 02:50:25</td>\n",
       "      <td>2021-01-26 03:11:15</td>\n",
       "      <td>18117</td>\n",
       "      <td>2.5207</td>\n",
       "      <td>2.76</td>\n",
       "      <td>8.0</td>\n",
       "      <td>8.0</td>\n",
       "      <td>0</td>\n",
       "      <td>0.0</td>\n",
       "      <td>105.0</td>\n",
       "      <td>NaN</td>\n",
       "      <td>NaN</td>\n",
       "      <td>NaN</td>\n",
       "      <td>3.266667</td>\n",
       "      <td>NaN</td>\n",
       "    </tr>\n",
       "    <tr>\n",
       "      <th>2</th>\n",
       "      <td>2021-01-26 02:39:49</td>\n",
       "      <td>556755</td>\n",
       "      <td>2021-01-26 00:00:00</td>\n",
       "      <td>2021-01-26 02:39:57</td>\n",
       "      <td>2021-01-26 02:40:13</td>\n",
       "      <td>2021-01-26 02:56:00</td>\n",
       "      <td>2021-01-26 03:12:46</td>\n",
       "      <td>18623</td>\n",
       "      <td>2.2074</td>\n",
       "      <td>4.80</td>\n",
       "      <td>1.0</td>\n",
       "      <td>1.0</td>\n",
       "      <td>0</td>\n",
       "      <td>0.0</td>\n",
       "      <td>66.0</td>\n",
       "      <td>NaN</td>\n",
       "      <td>NaN</td>\n",
       "      <td>NaN</td>\n",
       "      <td>9.816667</td>\n",
       "      <td>NaN</td>\n",
       "    </tr>\n",
       "    <tr>\n",
       "      <th>3</th>\n",
       "      <td>2021-01-26 02:47:53</td>\n",
       "      <td>556756</td>\n",
       "      <td>2021-01-26 00:00:00</td>\n",
       "      <td>2021-01-26 02:48:25</td>\n",
       "      <td>2021-01-26 02:49:06</td>\n",
       "      <td>2021-01-26 03:21:51</td>\n",
       "      <td>2021-01-26 03:41:05</td>\n",
       "      <td>15945</td>\n",
       "      <td>2.1894</td>\n",
       "      <td>6.38</td>\n",
       "      <td>1.0</td>\n",
       "      <td>1.0</td>\n",
       "      <td>0</td>\n",
       "      <td>0.0</td>\n",
       "      <td>127.0</td>\n",
       "      <td>NaN</td>\n",
       "      <td>NaN</td>\n",
       "      <td>NaN</td>\n",
       "      <td>17.533333</td>\n",
       "      <td>NaN</td>\n",
       "    </tr>\n",
       "    <tr>\n",
       "      <th>4</th>\n",
       "      <td>2021-01-26 03:06:30</td>\n",
       "      <td>556757</td>\n",
       "      <td>2021-01-26 00:00:00</td>\n",
       "      <td>2021-01-26 03:07:21</td>\n",
       "      <td>2021-01-26 03:07:57</td>\n",
       "      <td>2021-01-26 03:31:38</td>\n",
       "      <td>2021-01-26 04:00:15</td>\n",
       "      <td>17589</td>\n",
       "      <td>2.7870</td>\n",
       "      <td>4.01</td>\n",
       "      <td>34.0</td>\n",
       "      <td>34.0</td>\n",
       "      <td>0</td>\n",
       "      <td>0.0</td>\n",
       "      <td>84.0</td>\n",
       "      <td>NaN</td>\n",
       "      <td>NaN</td>\n",
       "      <td>NaN</td>\n",
       "      <td>1.350000</td>\n",
       "      <td>NaN</td>\n",
       "    </tr>\n",
       "  </tbody>\n",
       "</table>\n",
       "</div>"
      ],
      "text/plain": [
       "            order_time  order_id           order_date           allot_time  \\\n",
       "0  2021-01-26 02:21:35    556753  2021-01-26 00:00:00  2021-01-26 02:21:59   \n",
       "1  2021-01-26 02:33:16    556754  2021-01-26 00:00:00  2021-01-26 02:33:57   \n",
       "2  2021-01-26 02:39:49    556755  2021-01-26 00:00:00  2021-01-26 02:39:57   \n",
       "3  2021-01-26 02:47:53    556756  2021-01-26 00:00:00  2021-01-26 02:48:25   \n",
       "4  2021-01-26 03:06:30    556757  2021-01-26 00:00:00  2021-01-26 03:07:21   \n",
       "\n",
       "           accept_time          pickup_time       delivered_time  rider_id  \\\n",
       "0  2021-01-26 02:22:08  2021-01-26 02:32:51  2021-01-26 02:49:47     11696   \n",
       "1  2021-01-26 02:34:45  2021-01-26 02:50:25  2021-01-26 03:11:15     18117   \n",
       "2  2021-01-26 02:40:13  2021-01-26 02:56:00  2021-01-26 03:12:46     18623   \n",
       "3  2021-01-26 02:49:06  2021-01-26 03:21:51  2021-01-26 03:41:05     15945   \n",
       "4  2021-01-26 03:07:57  2021-01-26 03:31:38  2021-01-26 04:00:15     17589   \n",
       "\n",
       "   first_mile_distance  last_mile_distance  alloted_orders  delivered_orders  \\\n",
       "0               1.5666                2.65            46.0              46.0   \n",
       "1               2.5207                2.76             8.0               8.0   \n",
       "2               2.2074                4.80             1.0               1.0   \n",
       "3               2.1894                6.38             1.0               1.0   \n",
       "4               2.7870                4.01            34.0              34.0   \n",
       "\n",
       "   cancelled  undelivered_orders  lifetime_order_count reassignment_method  \\\n",
       "0          0                 0.0                 621.0                 NaN   \n",
       "1          0                 0.0                 105.0                 NaN   \n",
       "2          0                 0.0                  66.0                 NaN   \n",
       "3          0                 0.0                 127.0                 NaN   \n",
       "4          0                 0.0                  84.0                 NaN   \n",
       "\n",
       "  reassignment_reason  reassigned_order  session_time cancelled_time  \n",
       "0                 NaN               NaN           NaN            NaN  \n",
       "1                 NaN               NaN      3.266667            NaN  \n",
       "2                 NaN               NaN      9.816667            NaN  \n",
       "3                 NaN               NaN     17.533333            NaN  \n",
       "4                 NaN               NaN      1.350000            NaN  "
      ]
     },
     "execution_count": 3,
     "metadata": {},
     "output_type": "execute_result"
    }
   ],
   "source": [
    "df.head()"
   ]
  },
  {
   "cell_type": "markdown",
   "id": "58d5767c",
   "metadata": {},
   "source": [
    "# DATA PRE-PROCESSING"
   ]
  },
  {
   "cell_type": "code",
   "execution_count": 4,
   "id": "5464982b",
   "metadata": {},
   "outputs": [],
   "source": [
    "df.drop([\"delivered_time\",\"pickup_time\",\"cancelled_time\",\"order_date\"],axis=1,inplace=True)\n",
    "#Delivered_time,pickup_time,cancelled_time are not in test data whereas order_date is already in order_time feature."
   ]
  },
  {
   "cell_type": "code",
   "execution_count": 5,
   "id": "5d949289",
   "metadata": {},
   "outputs": [],
   "source": [
    "df.reassignment_method.fillna(\"Nill\",inplace=True)\n"
   ]
  },
  {
   "cell_type": "code",
   "execution_count": 6,
   "id": "caba413e",
   "metadata": {},
   "outputs": [],
   "source": [
    "df.reassignment_reason.fillna(\"Nill\",inplace=True)"
   ]
  },
  {
   "cell_type": "code",
   "execution_count": 7,
   "id": "bdb18060",
   "metadata": {},
   "outputs": [],
   "source": [
    "df.reassigned_order.fillna(0,inplace=True)"
   ]
  },
  {
   "cell_type": "code",
   "execution_count": 8,
   "id": "8ad8a29a",
   "metadata": {},
   "outputs": [
    {
     "data": {
      "text/plain": [
       "order_time                  0\n",
       "order_id                    0\n",
       "allot_time                  0\n",
       "accept_time               157\n",
       "rider_id                    0\n",
       "first_mile_distance         0\n",
       "last_mile_distance          0\n",
       "alloted_orders          16948\n",
       "delivered_orders        17341\n",
       "cancelled                   0\n",
       "undelivered_orders      17341\n",
       "lifetime_order_count       53\n",
       "reassignment_method         0\n",
       "reassignment_reason         0\n",
       "reassigned_order            0\n",
       "session_time             3675\n",
       "dtype: int64"
      ]
     },
     "execution_count": 8,
     "metadata": {},
     "output_type": "execute_result"
    }
   ],
   "source": [
    "df.isnull().sum()"
   ]
  },
  {
   "cell_type": "code",
   "execution_count": 9,
   "id": "0dcbb948",
   "metadata": {},
   "outputs": [],
   "source": [
    "df.dropna(subset=[\"accept_time\"],inplace=True)"
   ]
  },
  {
   "cell_type": "code",
   "execution_count": 10,
   "id": "fc05d201",
   "metadata": {},
   "outputs": [],
   "source": [
    "df.alloted_orders.fillna(0,inplace=True)  \n",
    "df.delivered_orders.fillna(0,inplace=True)\n",
    "df.undelivered_orders.fillna(0,inplace=True)\n",
    "df.lifetime_order_count.fillna(0,inplace=True)\n",
    "df.session_time.fillna(0,inplace=True)"
   ]
  },
  {
   "cell_type": "code",
   "execution_count": 11,
   "id": "4d1d137a",
   "metadata": {},
   "outputs": [
    {
     "data": {
      "text/plain": [
       "order_time              0\n",
       "order_id                0\n",
       "allot_time              0\n",
       "accept_time             0\n",
       "rider_id                0\n",
       "first_mile_distance     0\n",
       "last_mile_distance      0\n",
       "alloted_orders          0\n",
       "delivered_orders        0\n",
       "cancelled               0\n",
       "undelivered_orders      0\n",
       "lifetime_order_count    0\n",
       "reassignment_method     0\n",
       "reassignment_reason     0\n",
       "reassigned_order        0\n",
       "session_time            0\n",
       "dtype: int64"
      ]
     },
     "execution_count": 11,
     "metadata": {},
     "output_type": "execute_result"
    }
   ],
   "source": [
    "df.isnull().sum()"
   ]
  },
  {
   "cell_type": "markdown",
   "id": "b71e5e5c",
   "metadata": {},
   "source": [
    "# Feature Engineering"
   ]
  },
  {
   "cell_type": "code",
   "execution_count": 12,
   "id": "751d159b",
   "metadata": {},
   "outputs": [],
   "source": [
    "df[\"order_time\"]=pd.to_datetime(df[\"order_time\"])"
   ]
  },
  {
   "cell_type": "code",
   "execution_count": 13,
   "id": "25d3dc02",
   "metadata": {},
   "outputs": [],
   "source": [
    "df[\"allot_time\"]=pd.to_datetime(df[\"allot_time\"])"
   ]
  },
  {
   "cell_type": "code",
   "execution_count": 14,
   "id": "69073972",
   "metadata": {},
   "outputs": [],
   "source": [
    "df[\"accept_time\"]=pd.to_datetime(df[\"accept_time\"])"
   ]
  },
  {
   "cell_type": "code",
   "execution_count": 15,
   "id": "2d763ce1",
   "metadata": {},
   "outputs": [],
   "source": [
    "df[\"or_al_min\"]=df[\"allot_time\"]-df[\"order_time\"]"
   ]
  },
  {
   "cell_type": "code",
   "execution_count": 16,
   "id": "91973cdf",
   "metadata": {},
   "outputs": [],
   "source": [
    "df[\"or_al_min\"] = df[\"or_al_min\"].dt.total_seconds()/60"
   ]
  },
  {
   "cell_type": "code",
   "execution_count": 17,
   "id": "fee79247",
   "metadata": {},
   "outputs": [],
   "source": [
    "df[\"or_ac_min\"]=df[\"accept_time\"]-df[\"order_time\"]"
   ]
  },
  {
   "cell_type": "code",
   "execution_count": 18,
   "id": "b0bfda6e",
   "metadata": {},
   "outputs": [],
   "source": [
    "df[\"or_ac_min\"] = df[\"or_ac_min\"].dt.total_seconds()/60"
   ]
  },
  {
   "cell_type": "code",
   "execution_count": 19,
   "id": "306d9fae",
   "metadata": {},
   "outputs": [],
   "source": [
    "df[\"al_ac_min\"]=df[\"accept_time\"]-df[\"allot_time\"]"
   ]
  },
  {
   "cell_type": "code",
   "execution_count": 20,
   "id": "461241e5",
   "metadata": {},
   "outputs": [],
   "source": [
    "df[\"al_ac_min\"]= df[\"al_ac_min\"].dt.total_seconds()/60"
   ]
  },
  {
   "cell_type": "code",
   "execution_count": 21,
   "id": "22df8b54",
   "metadata": {},
   "outputs": [],
   "source": [
    "df[\"total_dist\"]=df.first_mile_distance+df.last_mile_distance"
   ]
  },
  {
   "cell_type": "code",
   "execution_count": 22,
   "id": "2f73363a",
   "metadata": {},
   "outputs": [],
   "source": [
    "df[\"hour\"]=df.order_time.dt.hour"
   ]
  },
  {
   "cell_type": "code",
   "execution_count": 23,
   "id": "d6232001",
   "metadata": {},
   "outputs": [],
   "source": [
    "df[\"day\"]=df.order_time.dt.dayofweek"
   ]
  },
  {
   "cell_type": "code",
   "execution_count": 24,
   "id": "2983789c",
   "metadata": {},
   "outputs": [],
   "source": [
    "df[\"order_diff\"]=df.alloted_orders-df.delivered_orders"
   ]
  },
  {
   "cell_type": "code",
   "execution_count": 25,
   "id": "0dcc2c22",
   "metadata": {},
   "outputs": [],
   "source": [
    "df[\"month\"]=df.order_time.dt.month"
   ]
  },
  {
   "cell_type": "code",
   "execution_count": 26,
   "id": "5c49599e",
   "metadata": {},
   "outputs": [],
   "source": [
    "df.drop(\"order_id\",axis=1,inplace=True)"
   ]
  },
  {
   "cell_type": "code",
   "execution_count": 27,
   "id": "380dea52",
   "metadata": {},
   "outputs": [
    {
     "data": {
      "text/html": [
       "<div>\n",
       "<style scoped>\n",
       "    .dataframe tbody tr th:only-of-type {\n",
       "        vertical-align: middle;\n",
       "    }\n",
       "\n",
       "    .dataframe tbody tr th {\n",
       "        vertical-align: top;\n",
       "    }\n",
       "\n",
       "    .dataframe thead th {\n",
       "        text-align: right;\n",
       "    }\n",
       "</style>\n",
       "<table border=\"1\" class=\"dataframe\">\n",
       "  <thead>\n",
       "    <tr style=\"text-align: right;\">\n",
       "      <th></th>\n",
       "      <th>order_time</th>\n",
       "      <th>allot_time</th>\n",
       "      <th>accept_time</th>\n",
       "      <th>rider_id</th>\n",
       "      <th>first_mile_distance</th>\n",
       "      <th>last_mile_distance</th>\n",
       "      <th>alloted_orders</th>\n",
       "      <th>delivered_orders</th>\n",
       "      <th>cancelled</th>\n",
       "      <th>undelivered_orders</th>\n",
       "      <th>...</th>\n",
       "      <th>reassigned_order</th>\n",
       "      <th>session_time</th>\n",
       "      <th>or_al_min</th>\n",
       "      <th>or_ac_min</th>\n",
       "      <th>al_ac_min</th>\n",
       "      <th>total_dist</th>\n",
       "      <th>hour</th>\n",
       "      <th>day</th>\n",
       "      <th>order_diff</th>\n",
       "      <th>month</th>\n",
       "    </tr>\n",
       "  </thead>\n",
       "  <tbody>\n",
       "    <tr>\n",
       "      <th>0</th>\n",
       "      <td>2021-01-26 02:21:35</td>\n",
       "      <td>2021-01-26 02:21:59</td>\n",
       "      <td>2021-01-26 02:22:08</td>\n",
       "      <td>11696</td>\n",
       "      <td>1.5666</td>\n",
       "      <td>2.65</td>\n",
       "      <td>46.0</td>\n",
       "      <td>46.0</td>\n",
       "      <td>0</td>\n",
       "      <td>0.0</td>\n",
       "      <td>...</td>\n",
       "      <td>0.0</td>\n",
       "      <td>0.000000</td>\n",
       "      <td>0.400000</td>\n",
       "      <td>0.550000</td>\n",
       "      <td>0.150000</td>\n",
       "      <td>4.2166</td>\n",
       "      <td>2</td>\n",
       "      <td>1</td>\n",
       "      <td>0.0</td>\n",
       "      <td>1</td>\n",
       "    </tr>\n",
       "    <tr>\n",
       "      <th>1</th>\n",
       "      <td>2021-01-26 02:33:16</td>\n",
       "      <td>2021-01-26 02:33:57</td>\n",
       "      <td>2021-01-26 02:34:45</td>\n",
       "      <td>18117</td>\n",
       "      <td>2.5207</td>\n",
       "      <td>2.76</td>\n",
       "      <td>8.0</td>\n",
       "      <td>8.0</td>\n",
       "      <td>0</td>\n",
       "      <td>0.0</td>\n",
       "      <td>...</td>\n",
       "      <td>0.0</td>\n",
       "      <td>3.266667</td>\n",
       "      <td>0.683333</td>\n",
       "      <td>1.483333</td>\n",
       "      <td>0.800000</td>\n",
       "      <td>5.2807</td>\n",
       "      <td>2</td>\n",
       "      <td>1</td>\n",
       "      <td>0.0</td>\n",
       "      <td>1</td>\n",
       "    </tr>\n",
       "    <tr>\n",
       "      <th>2</th>\n",
       "      <td>2021-01-26 02:39:49</td>\n",
       "      <td>2021-01-26 02:39:57</td>\n",
       "      <td>2021-01-26 02:40:13</td>\n",
       "      <td>18623</td>\n",
       "      <td>2.2074</td>\n",
       "      <td>4.80</td>\n",
       "      <td>1.0</td>\n",
       "      <td>1.0</td>\n",
       "      <td>0</td>\n",
       "      <td>0.0</td>\n",
       "      <td>...</td>\n",
       "      <td>0.0</td>\n",
       "      <td>9.816667</td>\n",
       "      <td>0.133333</td>\n",
       "      <td>0.400000</td>\n",
       "      <td>0.266667</td>\n",
       "      <td>7.0074</td>\n",
       "      <td>2</td>\n",
       "      <td>1</td>\n",
       "      <td>0.0</td>\n",
       "      <td>1</td>\n",
       "    </tr>\n",
       "    <tr>\n",
       "      <th>3</th>\n",
       "      <td>2021-01-26 02:47:53</td>\n",
       "      <td>2021-01-26 02:48:25</td>\n",
       "      <td>2021-01-26 02:49:06</td>\n",
       "      <td>15945</td>\n",
       "      <td>2.1894</td>\n",
       "      <td>6.38</td>\n",
       "      <td>1.0</td>\n",
       "      <td>1.0</td>\n",
       "      <td>0</td>\n",
       "      <td>0.0</td>\n",
       "      <td>...</td>\n",
       "      <td>0.0</td>\n",
       "      <td>17.533333</td>\n",
       "      <td>0.533333</td>\n",
       "      <td>1.216667</td>\n",
       "      <td>0.683333</td>\n",
       "      <td>8.5694</td>\n",
       "      <td>2</td>\n",
       "      <td>1</td>\n",
       "      <td>0.0</td>\n",
       "      <td>1</td>\n",
       "    </tr>\n",
       "    <tr>\n",
       "      <th>4</th>\n",
       "      <td>2021-01-26 03:06:30</td>\n",
       "      <td>2021-01-26 03:07:21</td>\n",
       "      <td>2021-01-26 03:07:57</td>\n",
       "      <td>17589</td>\n",
       "      <td>2.7870</td>\n",
       "      <td>4.01</td>\n",
       "      <td>34.0</td>\n",
       "      <td>34.0</td>\n",
       "      <td>0</td>\n",
       "      <td>0.0</td>\n",
       "      <td>...</td>\n",
       "      <td>0.0</td>\n",
       "      <td>1.350000</td>\n",
       "      <td>0.850000</td>\n",
       "      <td>1.450000</td>\n",
       "      <td>0.600000</td>\n",
       "      <td>6.7970</td>\n",
       "      <td>3</td>\n",
       "      <td>1</td>\n",
       "      <td>0.0</td>\n",
       "      <td>1</td>\n",
       "    </tr>\n",
       "  </tbody>\n",
       "</table>\n",
       "<p>5 rows × 23 columns</p>\n",
       "</div>"
      ],
      "text/plain": [
       "           order_time          allot_time         accept_time  rider_id  \\\n",
       "0 2021-01-26 02:21:35 2021-01-26 02:21:59 2021-01-26 02:22:08     11696   \n",
       "1 2021-01-26 02:33:16 2021-01-26 02:33:57 2021-01-26 02:34:45     18117   \n",
       "2 2021-01-26 02:39:49 2021-01-26 02:39:57 2021-01-26 02:40:13     18623   \n",
       "3 2021-01-26 02:47:53 2021-01-26 02:48:25 2021-01-26 02:49:06     15945   \n",
       "4 2021-01-26 03:06:30 2021-01-26 03:07:21 2021-01-26 03:07:57     17589   \n",
       "\n",
       "   first_mile_distance  last_mile_distance  alloted_orders  delivered_orders  \\\n",
       "0               1.5666                2.65            46.0              46.0   \n",
       "1               2.5207                2.76             8.0               8.0   \n",
       "2               2.2074                4.80             1.0               1.0   \n",
       "3               2.1894                6.38             1.0               1.0   \n",
       "4               2.7870                4.01            34.0              34.0   \n",
       "\n",
       "   cancelled  undelivered_orders  ...  reassigned_order session_time  \\\n",
       "0          0                 0.0  ...               0.0     0.000000   \n",
       "1          0                 0.0  ...               0.0     3.266667   \n",
       "2          0                 0.0  ...               0.0     9.816667   \n",
       "3          0                 0.0  ...               0.0    17.533333   \n",
       "4          0                 0.0  ...               0.0     1.350000   \n",
       "\n",
       "  or_al_min  or_ac_min  al_ac_min  total_dist  hour  day  order_diff  month  \n",
       "0  0.400000   0.550000   0.150000      4.2166     2    1         0.0      1  \n",
       "1  0.683333   1.483333   0.800000      5.2807     2    1         0.0      1  \n",
       "2  0.133333   0.400000   0.266667      7.0074     2    1         0.0      1  \n",
       "3  0.533333   1.216667   0.683333      8.5694     2    1         0.0      1  \n",
       "4  0.850000   1.450000   0.600000      6.7970     3    1         0.0      1  \n",
       "\n",
       "[5 rows x 23 columns]"
      ]
     },
     "execution_count": 27,
     "metadata": {},
     "output_type": "execute_result"
    }
   ],
   "source": [
    "df.head()"
   ]
  },
  {
   "cell_type": "markdown",
   "id": "6ff1a418",
   "metadata": {},
   "source": [
    "# Exploratory Data Analysis"
   ]
  },
  {
   "cell_type": "code",
   "execution_count": 28,
   "id": "258b84e3",
   "metadata": {},
   "outputs": [
    {
     "data": {
      "text/plain": [
       "17416    12\n",
       "1248      6\n",
       "15142     6\n",
       "19208     6\n",
       "15605     5\n",
       "         ..\n",
       "1527      1\n",
       "18294     1\n",
       "2659      1\n",
       "6128      1\n",
       "8696      1\n",
       "Name: rider_id, Length: 3978, dtype: int64"
      ]
     },
     "execution_count": 28,
     "metadata": {},
     "output_type": "execute_result"
    }
   ],
   "source": [
    "df[df.cancelled==1].rider_id.value_counts()"
   ]
  },
  {
   "cell_type": "code",
   "execution_count": 29,
   "id": "4637f192",
   "metadata": {},
   "outputs": [
    {
     "data": {
      "text/html": [
       "<div>\n",
       "<style scoped>\n",
       "    .dataframe tbody tr th:only-of-type {\n",
       "        vertical-align: middle;\n",
       "    }\n",
       "\n",
       "    .dataframe tbody tr th {\n",
       "        vertical-align: top;\n",
       "    }\n",
       "\n",
       "    .dataframe thead th {\n",
       "        text-align: right;\n",
       "    }\n",
       "</style>\n",
       "<table border=\"1\" class=\"dataframe\">\n",
       "  <thead>\n",
       "    <tr style=\"text-align: right;\">\n",
       "      <th></th>\n",
       "      <th>rider_id</th>\n",
       "      <th>first_mile_distance</th>\n",
       "      <th>last_mile_distance</th>\n",
       "      <th>alloted_orders</th>\n",
       "      <th>delivered_orders</th>\n",
       "      <th>undelivered_orders</th>\n",
       "      <th>lifetime_order_count</th>\n",
       "      <th>reassigned_order</th>\n",
       "      <th>session_time</th>\n",
       "      <th>or_al_min</th>\n",
       "      <th>or_ac_min</th>\n",
       "      <th>al_ac_min</th>\n",
       "      <th>total_dist</th>\n",
       "      <th>hour</th>\n",
       "      <th>day</th>\n",
       "      <th>order_diff</th>\n",
       "      <th>month</th>\n",
       "    </tr>\n",
       "    <tr>\n",
       "      <th>cancelled</th>\n",
       "      <th></th>\n",
       "      <th></th>\n",
       "      <th></th>\n",
       "      <th></th>\n",
       "      <th></th>\n",
       "      <th></th>\n",
       "      <th></th>\n",
       "      <th></th>\n",
       "      <th></th>\n",
       "      <th></th>\n",
       "      <th></th>\n",
       "      <th></th>\n",
       "      <th></th>\n",
       "      <th></th>\n",
       "      <th></th>\n",
       "      <th></th>\n",
       "      <th></th>\n",
       "    </tr>\n",
       "  </thead>\n",
       "  <tbody>\n",
       "    <tr>\n",
       "      <th>0</th>\n",
       "      <td>7728.050778</td>\n",
       "      <td>1.229002</td>\n",
       "      <td>2.965057</td>\n",
       "      <td>101.096351</td>\n",
       "      <td>100.360768</td>\n",
       "      <td>0.735072</td>\n",
       "      <td>856.259810</td>\n",
       "      <td>0.029297</td>\n",
       "      <td>219.099773</td>\n",
       "      <td>1.146705</td>\n",
       "      <td>2.164133</td>\n",
       "      <td>1.017428</td>\n",
       "      <td>4.194059</td>\n",
       "      <td>12.720488</td>\n",
       "      <td>2.883840</td>\n",
       "      <td>0.735583</td>\n",
       "      <td>1.476069</td>\n",
       "    </tr>\n",
       "    <tr>\n",
       "      <th>1</th>\n",
       "      <td>10816.468682</td>\n",
       "      <td>1.300994</td>\n",
       "      <td>3.303327</td>\n",
       "      <td>64.966410</td>\n",
       "      <td>64.193242</td>\n",
       "      <td>0.705197</td>\n",
       "      <td>616.176843</td>\n",
       "      <td>0.140684</td>\n",
       "      <td>180.713334</td>\n",
       "      <td>7.452651</td>\n",
       "      <td>8.410838</td>\n",
       "      <td>0.958187</td>\n",
       "      <td>4.604321</td>\n",
       "      <td>12.995851</td>\n",
       "      <td>3.002766</td>\n",
       "      <td>0.773167</td>\n",
       "      <td>1.443391</td>\n",
       "    </tr>\n",
       "  </tbody>\n",
       "</table>\n",
       "</div>"
      ],
      "text/plain": [
       "               rider_id  first_mile_distance  last_mile_distance  \\\n",
       "cancelled                                                          \n",
       "0           7728.050778             1.229002            2.965057   \n",
       "1          10816.468682             1.300994            3.303327   \n",
       "\n",
       "           alloted_orders  delivered_orders  undelivered_orders  \\\n",
       "cancelled                                                         \n",
       "0              101.096351        100.360768            0.735072   \n",
       "1               64.966410         64.193242            0.705197   \n",
       "\n",
       "           lifetime_order_count  reassigned_order  session_time  or_al_min  \\\n",
       "cancelled                                                                    \n",
       "0                    856.259810          0.029297    219.099773   1.146705   \n",
       "1                    616.176843          0.140684    180.713334   7.452651   \n",
       "\n",
       "           or_ac_min  al_ac_min  total_dist       hour       day  order_diff  \\\n",
       "cancelled                                                                      \n",
       "0           2.164133   1.017428    4.194059  12.720488  2.883840    0.735583   \n",
       "1           8.410838   0.958187    4.604321  12.995851  3.002766    0.773167   \n",
       "\n",
       "              month  \n",
       "cancelled            \n",
       "0          1.476069  \n",
       "1          1.443391  "
      ]
     },
     "execution_count": 29,
     "metadata": {},
     "output_type": "execute_result"
    }
   ],
   "source": [
    "df.groupby(\"cancelled\").mean()"
   ]
  },
  {
   "cell_type": "code",
   "execution_count": 30,
   "id": "1317188d",
   "metadata": {},
   "outputs": [
    {
     "data": {
      "text/plain": [
       "reassignment_method  cancelled\n",
       "Nill                 0            431757\n",
       "                     1              4351\n",
       "auto                 0             12698\n",
       "                     1               684\n",
       "manual               0               327\n",
       "                     1                26\n",
       "Name: cancelled, dtype: int64"
      ]
     },
     "execution_count": 30,
     "metadata": {},
     "output_type": "execute_result"
    }
   ],
   "source": [
    "df.groupby(\"reassignment_method\").cancelled.value_counts()"
   ]
  },
  {
   "cell_type": "code",
   "execution_count": 31,
   "id": "08ae200e",
   "metadata": {},
   "outputs": [
    {
     "data": {
      "text/plain": [
       "<AxesSubplot:xlabel='cancelled', ylabel='count'>"
      ]
     },
     "execution_count": 31,
     "metadata": {},
     "output_type": "execute_result"
    },
    {
     "data": {
      "image/png": "[encoded data removed]",
      "text/plain": [
       "<Figure size 432x288 with 1 Axes>"
      ]
     },
     "metadata": {
      "needs_background": "light"
     },
     "output_type": "display_data"
    }
   ],
   "source": [
    "sns.countplot(df.cancelled)"
   ]
  },
  {
   "cell_type": "markdown",
   "id": "f70e82bb",
   "metadata": {},
   "source": [
    "# Encoding"
   ]
  },
  {
   "cell_type": "code",
   "execution_count": 32,
   "id": "c6680cf3",
   "metadata": {},
   "outputs": [],
   "source": [
    "from sklearn import preprocessing\n",
    "le = preprocessing.LabelEncoder()\n",
    "le.fit(df[\"reassignment_method\"])\n",
    "df[\"reassignment_method\"]=le.transform(df[\"reassignment_method\"])\n",
    "le.fit(df[\"reassignment_reason\"])\n",
    "df[\"reassignment_reason\"]=le.transform(df[\"reassignment_reason\"])"
   ]
  },
  {
   "cell_type": "code",
   "execution_count": 33,
   "id": "6444a0ff",
   "metadata": {},
   "outputs": [
    {
     "data": {
      "text/plain": [
       "order_time              datetime64[ns]\n",
       "allot_time              datetime64[ns]\n",
       "accept_time             datetime64[ns]\n",
       "rider_id                         int64\n",
       "first_mile_distance            float64\n",
       "last_mile_distance             float64\n",
       "alloted_orders                 float64\n",
       "delivered_orders               float64\n",
       "cancelled                        int64\n",
       "undelivered_orders             float64\n",
       "lifetime_order_count           float64\n",
       "reassignment_method              int32\n",
       "reassignment_reason              int32\n",
       "reassigned_order               float64\n",
       "session_time                   float64\n",
       "or_al_min                      float64\n",
       "or_ac_min                      float64\n",
       "al_ac_min                      float64\n",
       "total_dist                     float64\n",
       "hour                             int64\n",
       "day                              int64\n",
       "order_diff                     float64\n",
       "month                            int64\n",
       "dtype: object"
      ]
     },
     "execution_count": 33,
     "metadata": {},
     "output_type": "execute_result"
    }
   ],
   "source": [
    "df.dtypes"
   ]
  },
  {
   "cell_type": "markdown",
   "id": "a917a5eb",
   "metadata": {},
   "source": [
    "# Splitting the data"
   ]
  },
  {
   "cell_type": "code",
   "execution_count": 34,
   "id": "b052296c",
   "metadata": {},
   "outputs": [],
   "source": [
    "X=df[[\"reassignment_reason\",\"reassignment_method\",\"reassigned_order\",\"day\",\"hour\",\"rider_id\",\"first_mile_distance\",\"last_mile_distance\",\"alloted_orders\",\"delivered_orders\",\"undelivered_orders\",\"lifetime_order_count\",\"session_time\",\"or_al_min\",\"or_ac_min\",\"al_ac_min\",\"total_dist\",\"order_diff\",\"month\"]]\n",
    "y=df.cancelled"
   ]
  },
  {
   "cell_type": "code",
   "execution_count": 35,
   "id": "950211e5",
   "metadata": {},
   "outputs": [],
   "source": [
    "from sklearn.model_selection import train_test_split\n",
    "X_train, X_test, y_train, y_test = train_test_split(X,y, test_size=0.25, random_state=2022,stratify=y)"
   ]
  },
  {
   "cell_type": "markdown",
   "id": "2b72a4e2",
   "metadata": {},
   "source": [
    "# Feature Importance"
   ]
  },
  {
   "cell_type": "code",
   "execution_count": 36,
   "id": "3569e0ce",
   "metadata": {},
   "outputs": [
    {
     "data": {
      "text/plain": [
       "ExtraTreesClassifier()"
      ]
     },
     "execution_count": 36,
     "metadata": {},
     "output_type": "execute_result"
    }
   ],
   "source": [
    "from sklearn.ensemble import ExtraTreesClassifier\n",
    "model=ExtraTreesClassifier()\n",
    "model.fit(X,y)"
   ]
  },
  {
   "cell_type": "code",
   "execution_count": 37,
   "id": "587f7a48",
   "metadata": {},
   "outputs": [
    {
     "data": {
      "text/plain": [
       "or_ac_min               0.082016\n",
       "or_al_min               0.080861\n",
       "rider_id                0.080438\n",
       "session_time            0.077551\n",
       "last_mile_distance      0.075690\n",
       "first_mile_distance     0.075195\n",
       "al_ac_min               0.074393\n",
       "total_dist              0.074385\n",
       "lifetime_order_count    0.071486\n",
       "delivered_orders        0.063009\n",
       "alloted_orders          0.062894\n",
       "hour                    0.061889\n",
       "day                     0.046652\n",
       "order_diff              0.030411\n",
       "undelivered_orders      0.021342\n",
       "month                   0.010955\n",
       "reassignment_reason     0.006347\n",
       "reassigned_order        0.002707\n",
       "reassignment_method     0.001782\n",
       "dtype: float64"
      ]
     },
     "execution_count": 37,
     "metadata": {},
     "output_type": "execute_result"
    }
   ],
   "source": [
    "pd.Series(model.feature_importances_,index=X.columns).sort_values(ascending=False)"
   ]
  },
  {
   "cell_type": "markdown",
   "id": "0b0fdc69",
   "metadata": {},
   "source": [
    "# Handling Imbalance"
   ]
  },
  {
   "cell_type": "code",
   "execution_count": 38,
   "id": "84b10442",
   "metadata": {},
   "outputs": [
    {
     "name": "stdout",
     "output_type": "stream",
     "text": [
      "Original  shape Counter({0: 333586, 1: 3796})\n",
      "Resampled shape Counter({0: 333586, 1: 333586})\n"
     ]
    }
   ],
   "source": [
    "# SMOTE\n",
    "import collections as k\n",
    "from imblearn.over_sampling import SMOTE\n",
    "smote = SMOTE()\n",
    "X_sm, y_sm = smote.fit_resample(X_train, y_train)\n",
    "\n",
    "print('Original  shape', k.Counter(y_train))\n",
    "print('Resampled shape', k.Counter(y_sm))"
   ]
  },
  {
   "cell_type": "code",
   "execution_count": 39,
   "id": "1d62096f",
   "metadata": {},
   "outputs": [
    {
     "data": {
      "text/plain": [
       "<AxesSubplot:xlabel='cancelled', ylabel='count'>"
      ]
     },
     "execution_count": 39,
     "metadata": {},
     "output_type": "execute_result"
    },
    {
     "data": {
      "image/png": "[encoded data removed]",
      "text/plain": [
       "<Figure size 432x288 with 1 Axes>"
      ]
     },
     "metadata": {
      "needs_background": "light"
     },
     "output_type": "display_data"
    }
   ],
   "source": [
    "sns.countplot(y_sm)"
   ]
  },
  {
   "cell_type": "code",
   "execution_count": 40,
   "id": "c338b230",
   "metadata": {},
   "outputs": [
    {
     "name": "stdout",
     "output_type": "stream",
     "text": [
      "Original dataset shape Counter({0: 333586, 1: 3796})\n",
      "Resample dataset shape Counter({1: 334054, 0: 333586})\n"
     ]
    }
   ],
   "source": [
    "#ADASYN\n",
    "import collections as k\n",
    "from imblearn.over_sampling import ADASYN\n",
    "X_ada, y_ada  = ADASYN().fit_resample(X_train, y_train)\n",
    "print('Original dataset shape', k.Counter(y_train))\n",
    "print('Resample dataset shape', k.Counter(y_ada))"
   ]
  },
  {
   "cell_type": "code",
   "execution_count": 41,
   "id": "efd0bb0e",
   "metadata": {},
   "outputs": [
    {
     "data": {
      "text/plain": [
       "<AxesSubplot:xlabel='cancelled', ylabel='count'>"
      ]
     },
     "execution_count": 41,
     "metadata": {},
     "output_type": "execute_result"
    },
    {
     "data": {
      "image/png": "[encoded data removed]",
      "text/plain": [
       "<Figure size 432x288 with 1 Axes>"
      ]
     },
     "metadata": {
      "needs_background": "light"
     },
     "output_type": "display_data"
    }
   ],
   "source": [
    "sns.countplot(y_ada)"
   ]
  },
  {
   "cell_type": "markdown",
   "id": "f4c4a38b",
   "metadata": {},
   "source": [
    "# XGBOOST"
   ]
  },
  {
   "cell_type": "code",
   "execution_count": 45,
   "id": "6455f3f9",
   "metadata": {},
   "outputs": [],
   "source": [
    "params = {'gamma': [0,0.1,0.2,0.4,0.8,1.6,3.2,6.4,12.8,25.6,51.2,102.4, 200],\n",
    "              'learning_rate': [0.01, 0.03, 0.06, 0.1, 0.15, 0.2, 0.25, 0.3, 0.4, 0.5, 0.6, 0.7],\n",
    "              'max_depth': [5,6,7,8,9,10,11,12,13,14],\n",
    "              'n_estimators': [50,65,80,100,115,130,150],\n",
    "               \"min_child_weight\" : [ 1, 3, 5, 7 ],\n",
    "                \"colsample_bytree\" : [ 0.3, 0.4, 0.5 ,0.55,0.6, 0.7 ],\n",
    "              'reg_alpha': [0,0.1,0.2,0.4,0.8,1.6,3.2,6.4,12.8,25.6,51.2,102.4,200],\n",
    "              'reg_lambda': [0,0.1,0.2,0.4,0.8,1.6,3.2,6.4,12.8,25.6,51.2,102.4,200]}"
   ]
  },
  {
   "cell_type": "code",
   "execution_count": 46,
   "id": "d67743b1",
   "metadata": {},
   "outputs": [],
   "source": [
    "import xgboost\n",
    "from xgboost import XGBClassifier"
   ]
  },
  {
   "cell_type": "code",
   "execution_count": 47,
   "id": "24facf64",
   "metadata": {},
   "outputs": [],
   "source": [
    "from sklearn.model_selection import RandomizedSearchCV"
   ]
  },
  {
   "cell_type": "code",
   "execution_count": 48,
   "id": "be59ad17",
   "metadata": {},
   "outputs": [],
   "source": [
    "model = XGBClassifier(objective='binary:logistic',\n",
    "                          booster='gbtree',\n",
    "                          eval_metric='auc',\n",
    "                          tree_method='hist',\n",
    "                          grow_policy='lossguide',\n",
    "                          use_label_encoder=False)"
   ]
  },
  {
   "cell_type": "code",
   "execution_count": 49,
   "id": "7d56ec46",
   "metadata": {},
   "outputs": [],
   "source": [
    "random_search=RandomizedSearchCV(model,param_distributions=params,n_iter=5,scoring='roc_auc',n_jobs=-1,cv=5,verbose=3)"
   ]
  },
  {
   "cell_type": "code",
   "execution_count": 50,
   "id": "c1f592af",
   "metadata": {},
   "outputs": [
    {
     "name": "stdout",
     "output_type": "stream",
     "text": [
      "Fitting 5 folds for each of 5 candidates, totalling 25 fits\n"
     ]
    },
    {
     "data": {
      "text/plain": [
       "RandomizedSearchCV(cv=5,\n",
       "                   estimator=XGBClassifier(base_score=None, booster='gbtree',\n",
       "                                           colsample_bylevel=None,\n",
       "                                           colsample_bynode=None,\n",
       "                                           colsample_bytree=None,\n",
       "                                           enable_categorical=False,\n",
       "                                           eval_metric='auc', gamma=None,\n",
       "                                           gpu_id=None, grow_policy='lossguide',\n",
       "                                           importance_type=None,\n",
       "                                           interaction_constraints=None,\n",
       "                                           learning_rate=None,\n",
       "                                           max_delta_step=None, max_depth=None,\n",
       "                                           min_chil...\n",
       "                                                  102.4, 200],\n",
       "                                        'learning_rate': [0.01, 0.03, 0.06, 0.1,\n",
       "                                                          0.15, 0.2, 0.25, 0.3,\n",
       "                                                          0.4, 0.5, 0.6, 0.7],\n",
       "                                        'max_depth': [5, 6, 7, 8, 9, 10, 11, 12,\n",
       "                                                      13, 14],\n",
       "                                        'min_child_weight': [1, 3, 5, 7],\n",
       "                                        'n_estimators': [50, 65, 80, 100, 115,\n",
       "                                                         130, 150],\n",
       "                                        'reg_alpha': [0, 0.1, 0.2, 0.4, 0.8,\n",
       "                                                      1.6, 3.2, 6.4, 12.8, 25.6,\n",
       "                                                      51.2, 102.4, 200],\n",
       "                                        'reg_lambda': [0, 0.1, 0.2, 0.4, 0.8,\n",
       "                                                       1.6, 3.2, 6.4, 12.8,\n",
       "                                                       25.6, 51.2, 102.4,\n",
       "                                                       200]},\n",
       "                   scoring='roc_auc', verbose=3)"
      ]
     },
     "execution_count": 50,
     "metadata": {},
     "output_type": "execute_result"
    }
   ],
   "source": [
    "random_search.fit(X_train, y_train)"
   ]
  },
  {
   "cell_type": "markdown",
   "id": "f0d5b8b8",
   "metadata": {},
   "source": [
    "# Custom ensemble"
   ]
  },
  {
   "cell_type": "code",
   "execution_count": 59,
   "id": "fbb56b95",
   "metadata": {},
   "outputs": [],
   "source": [
    "from imblearn.ensemble import BalancedRandomForestClassifier\n",
    "from imblearn.ensemble import BalancedBaggingClassifier\n",
    "from imblearn.ensemble import RUSBoostClassifier\n",
    "from imblearn.ensemble import EasyEnsembleClassifier \n",
    "from sklearn.ensemble import VotingClassifier\n",
    "from sklearn.pipeline import Pipeline\n",
    "\n",
    "models = list()\n",
    "\n",
    "BRFC = Pipeline([('m', BalancedRandomForestClassifier())])\n",
    "models.append(('BalancedRandomForestClassifier',BRFC ))\n",
    "\n",
    "EEC = Pipeline([('m', EasyEnsembleClassifier ())])\n",
    "models.append(('EasyEnsembleClassifier',EEC))\n",
    "\n",
    "BBC = Pipeline([('m',  BalancedBaggingClassifier())])\n",
    "models.append(('BalancedBaggingClassifier',BBC))\n",
    "\n",
    "\n",
    "RUSBC = Pipeline([('m',  RUSBoostClassifier())])\n",
    "models.append(('RUSBoostClassifier',RUSBC))\n",
    "\n",
    "\n",
    "\n",
    "ensemble = VotingClassifier(estimators=models, voting='hard')"
   ]
  },
  {
   "cell_type": "code",
   "execution_count": 60,
   "id": "08e96705",
   "metadata": {},
   "outputs": [
    {
     "data": {
      "text/plain": [
       "VotingClassifier(estimators=[('BalancedRandomForestClassifier',\n",
       "                              Pipeline(steps=[('m',\n",
       "                                               BalancedRandomForestClassifier())])),\n",
       "                             ('EasyEnsembleClassifier',\n",
       "                              Pipeline(steps=[('m',\n",
       "                                               EasyEnsembleClassifier())])),\n",
       "                             ('BalancedBaggingClassifier',\n",
       "                              Pipeline(steps=[('m',\n",
       "                                               BalancedBaggingClassifier())])),\n",
       "                             ('RUSBoostClassifier',\n",
       "                              Pipeline(steps=[('m', RUSBoostClassifier())]))])"
      ]
     },
     "execution_count": 60,
     "metadata": {},
     "output_type": "execute_result"
    }
   ],
   "source": [
    "ensemble.fit(X_train,y_train)"
   ]
  },
  {
   "cell_type": "code",
   "execution_count": 61,
   "id": "4e3377dc",
   "metadata": {},
   "outputs": [
    {
     "data": {
      "text/plain": [
       "array([0, 0, 0, ..., 0, 0, 0], dtype=int64)"
      ]
     },
     "execution_count": 61,
     "metadata": {},
     "output_type": "execute_result"
    }
   ],
   "source": [
    "ensemble.predict(X_test)"
   ]
  },
  {
   "cell_type": "code",
   "execution_count": null,
   "id": "9cc2940a",
   "metadata": {},
   "outputs": [],
   "source": []
  }
 ],
 "metadata": {
  "kernelspec": {
   "display_name": "Python 3 (ipykernel)",
   "language": "python",
   "name": "python3"
  },
  "language_info": {
   "codemirror_mode": {
    "name": "ipython",
    "version": 3
   },
   "file_extension": ".py",
   "mimetype": "text/x-python",
   "name": "python",
   "nbconvert_exporter": "python",
   "pygments_lexer": "ipython3",
   "version": "3.8.8"
  }
 },
 "nbformat": 4,
 "nbformat_minor": 5
}
